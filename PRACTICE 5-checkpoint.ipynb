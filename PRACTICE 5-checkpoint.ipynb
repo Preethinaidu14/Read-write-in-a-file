{
 "cells": [
  {
   "cell_type": "markdown",
   "metadata": {},
   "source": [
    "## HOW TO READ DATA FROM FILE"
   ]
  },
  {
   "cell_type": "code",
   "execution_count": 18,
   "metadata": {},
   "outputs": [
    {
     "data": {
      "text/plain": [
       "''"
      ]
     },
     "execution_count": 18,
     "metadata": {},
     "output_type": "execute_result"
    }
   ],
   "source": [
    "f = open(\"\\\\Users\\\\preethi\\\\Downloads\\\\.ipynb_checkpoints\\\\bio.txt\",'r')\n",
    "import os   #operating system\n",
    "f.read()   # will read all the data from the file\n",
    "f.read()   #will close the file"
   ]
  },
  {
   "cell_type": "code",
   "execution_count": 20,
   "metadata": {},
   "outputs": [
    {
     "data": {
      "text/plain": [
       "'.'"
      ]
     },
     "execution_count": 20,
     "metadata": {},
     "output_type": "execute_result"
    }
   ],
   "source": [
    "import os\n",
    "os.curdir"
   ]
  },
  {
   "cell_type": "code",
   "execution_count": 21,
   "metadata": {},
   "outputs": [
    {
     "name": "stdout",
     "output_type": "stream",
     "text": [
      "Help on built-in function getcwd in module nt:\n",
      "\n",
      "getcwd()\n",
      "    Return a unicode string representing the current working directory.\n",
      "\n"
     ]
    }
   ],
   "source": [
    "help(os.getcwd)"
   ]
  },
  {
   "cell_type": "code",
   "execution_count": 23,
   "metadata": {},
   "outputs": [
    {
     "data": {
      "text/plain": [
       "'C:\\\\Users\\\\preethi\\\\Downloads'"
      ]
     },
     "execution_count": 23,
     "metadata": {},
     "output_type": "execute_result"
    }
   ],
   "source": [
    "os.getcwd()"
   ]
  },
  {
   "cell_type": "code",
   "execution_count": 5,
   "metadata": {},
   "outputs": [
    {
     "data": {
      "text/plain": [
       "'India, officially the Republic of India,[20] is a country in South Asia. It is the seventh-largest country by area, the second-most populous country, and the most populous democracy in the world.\\n\\nBounded by the Indian Ocean on the south, the Arabian Sea on the southwest, and the Bay of Bengal on the southeast, it shares land borders with Pakistan to the west;[e] China, Nepal, and Bhutan to the north; and Bangladesh and Myanmar to the east. In the Indian Ocean, India is in the vicinity of Sri Lanka and the Maldives; its Andaman and Nicobar Islands share a maritime border with Thailand and Indonesia. \\n\\nModern humans arrived on the Indian subcontinent from Africa no later than 55,000 years ago.[21] Their long occupation, initially in varying forms of isolation as hunter-gatherers, has made the region highly diverse, second only to Africa in human genetic diversity.[22] Settled life emerged on the subcontinent in the western margins of the Indus river basin 9,000 years ago, evolving gradually into the Indus Valley Civilisation of the third millennium BCE.\\n\\nBy 1200 BCE, an archaic form of Sanskrit, an Indo-European language, had diffused into India from the northwest, unfolding as the language of the Rigveda, and recording the dawning of Hinduism in India.[24] The Dravidian languages of India were supplanted in the northern regions.'"
      ]
     },
     "execution_count": 5,
     "metadata": {},
     "output_type": "execute_result"
    }
   ],
   "source": [
    "f = open(\"\\\\Users\\\\preethi\\\\Downloads\\\\.ipynb_checkpoints\\\\india.txt\")\n",
    "f.read()"
   ]
  },
  {
   "cell_type": "code",
   "execution_count": 6,
   "metadata": {},
   "outputs": [
    {
     "data": {
      "text/plain": [
       "''"
      ]
     },
     "execution_count": 6,
     "metadata": {},
     "output_type": "execute_result"
    }
   ],
   "source": [
    "f.read()"
   ]
  },
  {
   "cell_type": "code",
   "execution_count": 7,
   "metadata": {},
   "outputs": [
    {
     "data": {
      "text/plain": [
       "''"
      ]
     },
     "execution_count": 7,
     "metadata": {},
     "output_type": "execute_result"
    }
   ],
   "source": [
    "f.read()"
   ]
  },
  {
   "cell_type": "code",
   "execution_count": 8,
   "metadata": {},
   "outputs": [],
   "source": [
    "f.close()"
   ]
  },
  {
   "cell_type": "code",
   "execution_count": 16,
   "metadata": {},
   "outputs": [
    {
     "data": {
      "text/plain": [
       "'India, officially the Republic of India,[20] is a country in South Asia. It is the seventh-largest country by area, the second-most populous country, and the most populous democracy in the world.\\n'"
      ]
     },
     "execution_count": 16,
     "metadata": {},
     "output_type": "execute_result"
    }
   ],
   "source": [
    "f = open(\"\\\\Users\\\\preethi\\\\Downloads\\\\.ipynb_checkpoints\\\\india.txt\")\n",
    "f.readline()"
   ]
  },
  {
   "cell_type": "code",
   "execution_count": 17,
   "metadata": {},
   "outputs": [
    {
     "data": {
      "text/plain": [
       "'\\n'"
      ]
     },
     "execution_count": 17,
     "metadata": {},
     "output_type": "execute_result"
    }
   ],
   "source": [
    "f.readline()"
   ]
  },
  {
   "cell_type": "code",
   "execution_count": 18,
   "metadata": {},
   "outputs": [
    {
     "data": {
      "text/plain": [
       "'Bounded by the Indian Ocean on the south, the Arabian Sea on the southwest, and the Bay of Bengal on the southeast, it shares land borders with Pakistan to the west;[e] China, Nepal, and Bhutan to the north; and Bangladesh and Myanmar to the east. In the Indian Ocean, India is in the vicinity of Sri Lanka and the Maldives; its Andaman and Nicobar Islands share a maritime border with Thailand and Indonesia. \\n'"
      ]
     },
     "execution_count": 18,
     "metadata": {},
     "output_type": "execute_result"
    }
   ],
   "source": [
    "f.readline()"
   ]
  },
  {
   "cell_type": "code",
   "execution_count": 19,
   "metadata": {},
   "outputs": [
    {
     "data": {
      "text/plain": [
       "'\\n'"
      ]
     },
     "execution_count": 19,
     "metadata": {},
     "output_type": "execute_result"
    }
   ],
   "source": [
    "f.readline()"
   ]
  },
  {
   "cell_type": "code",
   "execution_count": 20,
   "metadata": {},
   "outputs": [
    {
     "data": {
      "text/plain": [
       "['Modern humans arrived on the Indian subcontinent from Africa no later than 55,000 years ago.[21] Their long occupation, initially in varying forms of isolation as hunter-gatherers, has made the region highly diverse, second only to Africa in human genetic diversity.[22] Settled life emerged on the subcontinent in the western margins of the Indus river basin 9,000 years ago, evolving gradually into the Indus Valley Civilisation of the third millennium BCE.\\n',\n",
       " '\\n',\n",
       " 'By 1200 BCE, an archaic form of Sanskrit, an Indo-European language, had diffused into India from the northwest, unfolding as the language of the Rigveda, and recording the dawning of Hinduism in India.[24] The Dravidian languages of India were supplanted in the northern regions.']"
      ]
     },
     "execution_count": 20,
     "metadata": {},
     "output_type": "execute_result"
    }
   ],
   "source": [
    "f.readlines()"
   ]
  },
  {
   "cell_type": "code",
   "execution_count": 41,
   "metadata": {},
   "outputs": [
    {
     "data": {
      "text/plain": [
       "['India, officially the Republic of India,is a country in South Asia. It is the seventh-largest country by area, the second-most populous country, and the most populous democracy in the world.\\n',\n",
       " '\\n',\n",
       " 'Bounded by the Indian Ocean on the south, the Arabian Sea on the southwest, and the Bay of Bengal on the southeast, it shares land borders with Pakistan to the west;China, Nepal, and Bhutan to the north; and Bangladesh and Myanmar to the east. In the Indian Ocean, India is in the vicinity of Sri Lanka and the Maldives; its Andaman and Nicobar Islands share a maritime border with Thailand and Indonesia. \\n',\n",
       " '\\n',\n",
       " 'Modern humans arrived on the Indian subcontinent from Africa no later than 55,000 years ago. Their long occupation, initially in varying forms of isolation as hunter-gatherers, has made the region highly diverse, second only to Africa in human genetic diversity.Settled life emerged on the subcontinent in the western margins of the Indus river basin 9,000 years ago, evolving gradually into the Indus Valley Civilisation of the third millennium BCE.\\n',\n",
       " '\\n',\n",
       " 'By BCE, an archaic form of Sanskrit, an Indo-European language, had diffused into India from the northwest, unfolding as the language of the Rigveda, and recording the dawning of Hinduism in India.The Dravidian languages of India were supplanted in the northern regions.']"
      ]
     },
     "execution_count": 41,
     "metadata": {},
     "output_type": "execute_result"
    }
   ],
   "source": [
    "f = open(\"\\\\Users\\\\preethi\\\\Downloads\\\\.ipynb_checkpoints\\\\india.txt\",'r')\n",
    "f.readlines()"
   ]
  },
  {
   "cell_type": "code",
   "execution_count": 36,
   "metadata": {},
   "outputs": [
    {
     "data": {
      "text/plain": [
       "191"
      ]
     },
     "execution_count": 36,
     "metadata": {},
     "output_type": "execute_result"
    }
   ],
   "source": [
    "f = open(\"\\\\Users\\\\preethi\\\\Downloads\\\\.ipynb_checkpoints\\\\india.txt\",'r')\n",
    "a = f.readline()\n",
    "len(a)"
   ]
  },
  {
   "cell_type": "markdown",
   "metadata": {},
   "source": [
    "## TO COUNT NO. OF WORDS, SENTENCE AND LINES IN THE TEXT FILE"
   ]
  },
  {
   "cell_type": "code",
   "execution_count": 35,
   "metadata": {},
   "outputs": [
    {
     "name": "stdout",
     "output_type": "stream",
     "text": [
      "7\n",
      "213\n",
      "4\n"
     ]
    }
   ],
   "source": [
    "l = 0\n",
    "w = 0\n",
    "s = 0\n",
    "f = open(\"\\\\Users\\\\preethi\\\\Downloads\\\\.ipynb_checkpoints\\\\india.txt\",'r')\n",
    "for line in f:\n",
    "    l = l + 1\n",
    "    words = line.split()\n",
    "    w += len(words)\n",
    "    if ('.' in line):\n",
    "        s = s + 1\n",
    "print(l)   #lines   ( full-stops)\n",
    "print(w)   #words \n",
    "print(s)   #sentences\n",
    "    \n"
   ]
  },
  {
   "cell_type": "markdown",
   "metadata": {},
   "source": [
    "## TO WRITE IN A FILE "
   ]
  },
  {
   "cell_type": "code",
   "execution_count": 46,
   "metadata": {},
   "outputs": [],
   "source": [
    "f = open(\"\\\\Users\\\\preethi\\\\Downloads\\\\.ipynb_checkpoints\\\\write.txt\",'w')\n",
    "f.write(\"MY NAME IS PREETHI NAIDU.\")\n",
    "f.write(\"I AM CUTE.\")\n",
    "f.write(\"I AM TINY.\")\n",
    "f.write(\"I LOVE CHICKEN NUGGETS.\")\n",
    "f.close()"
   ]
  },
  {
   "cell_type": "markdown",
   "metadata": {},
   "source": [
    "## COUNT NUMBER OF WORDS IN FILE"
   ]
  },
  {
   "cell_type": "code",
   "execution_count": 40,
   "metadata": {},
   "outputs": [
    {
     "name": "stdout",
     "output_type": "stream",
     "text": [
      "['ICT', 'MUMBAI']\n",
      "list(s)__ ['I', 'C', 'T', ' ', 'M', 'U', 'M', 'B', 'A', 'I']\n",
      "10\n"
     ]
    }
   ],
   "source": [
    "s = \"ICT MUMBAI\"\n",
    "b = s.split()\n",
    "print(b)\n",
    "len(b)\n",
    "print(\"list(s)__\",list(s))\n",
    "print(len(list(s)))"
   ]
  },
  {
   "cell_type": "markdown",
   "metadata": {},
   "source": [
    "## TO FIT A LINE y= mx+c THROUGH SOME NOISY DATA POINTS"
   ]
  },
  {
   "cell_type": "code",
   "execution_count": 63,
   "metadata": {},
   "outputs": [
    {
     "name": "stdout",
     "output_type": "stream",
     "text": [
      "[0 1 2 3] [-1.   0.2  0.9  2.1]\n",
      "[[0. 1.]\n",
      " [1. 1.]\n",
      " [2. 1.]\n",
      " [3. 1.]]\n",
      "0.9999999999999997 -0.949999999999999\n"
     ]
    },
    {
     "name": "stderr",
     "output_type": "stream",
     "text": [
      "C:\\Users\\preethi\\AppData\\Local\\Continuum\\anaconda3\\lib\\site-packages\\ipykernel_launcher.py:12: FutureWarning: `rcond` parameter will change to the default of machine precision times ``max(M, N)`` where M and N are the input matrix dimensions.\n",
      "To use the future default and silence this warning we advise to pass `rcond=None`, to keep using the old, explicitly pass `rcond=-1`.\n",
      "  if sys.path[0] == '':\n"
     ]
    },
    {
     "data": {
      "image/png": "[encoded data removed]",
      "text/plain": [
       "<Figure size 432x288 with 1 Axes>"
      ]
     },
     "metadata": {
      "needs_background": "light"
     },
     "output_type": "display_data"
    }
   ],
   "source": [
    "import numpy as np\n",
    "x = np.array([0,1,2,3])\n",
    "y = np.array([-1,0.2,0.9,2.1])\n",
    "print(x,y)\n",
    "\n",
    "# we will write the line equation as y = Ap where A = [[x 1]] and p = [[m], [c]]\n",
    "# then use `lstsq` to solve for `p`\n",
    "\n",
    "A = np.vstack([x,np.ones(len(x))]).T\n",
    "print(A)\n",
    "\n",
    "m,c = np.linalg.lstsq(A,y)[0]\n",
    "print(m,c)\n",
    "\n",
    "#to plot\n",
    "import matplotlib.pyplot as plt\n",
    "plt.plot(x, y, 'o', label='Original data', markersize=10)\n",
    "plt.plot(x, m*x + c, 'r', label='Fitted line')\n",
    "plt.legend()\n",
    "plt.show()"
   ]
  },
  {
   "cell_type": "markdown",
   "metadata": {},
   "source": [
    "## ANOTHER EXAMPLE"
   ]
  },
  {
   "cell_type": "code",
   "execution_count": 81,
   "metadata": {},
   "outputs": [
    {
     "name": "stdout",
     "output_type": "stream",
     "text": [
      "x__ range(1, 11)\n",
      "y__ [5, 2, 5, 9, 7, 6, 1, 7, 5, 1]\n"
     ]
    },
    {
     "data": {
      "image/png": "[encoded data removed]",
      "text/plain": [
       "<Figure size 432x288 with 1 Axes>"
      ]
     },
     "metadata": {
      "needs_background": "light"
     },
     "output_type": "display_data"
    },
    {
     "name": "stdout",
     "output_type": "stream",
     "text": [
      "[[ 1.  1.]\n",
      " [ 2.  1.]\n",
      " [ 3.  1.]\n",
      " [ 4.  1.]\n",
      " [ 5.  1.]\n",
      " [ 6.  1.]\n",
      " [ 7.  1.]\n",
      " [ 8.  1.]\n",
      " [ 9.  1.]\n",
      " [10.  1.]]\n",
      "m,c__ -0.1818181818181826 5.800000000000006\n"
     ]
    },
    {
     "name": "stderr",
     "output_type": "stream",
     "text": [
      "C:\\Users\\preethi\\AppData\\Local\\Continuum\\anaconda3\\lib\\site-packages\\ipykernel_launcher.py:17: FutureWarning: `rcond` parameter will change to the default of machine precision times ``max(M, N)`` where M and N are the input matrix dimensions.\n",
      "To use the future default and silence this warning we advise to pass `rcond=None`, to keep using the old, explicitly pass `rcond=-1`.\n"
     ]
    },
    {
     "data": {
      "image/png": "[encoded data removed]",
      "text/plain": [
       "<Figure size 432x288 with 1 Axes>"
      ]
     },
     "metadata": {
      "needs_background": "light"
     },
     "output_type": "display_data"
    }
   ],
   "source": [
    "import numpy as np\n",
    "import random\n",
    "from matplotlib import pyplot as plt\n",
    "x = range(1,11)\n",
    "y = [random.randint(1,10) for i in range(10)]\n",
    "print(\"x__\",x)\n",
    "print(\"y__\",y)\n",
    "plt.scatter(x,y)\n",
    "plt.show()\n",
    "\n",
    "## to solve y = mx+x which is equivalent to y = Ap where A = ([x][1])\n",
    "A = np.vstack([x,np.ones(len(x))]).T\n",
    "print(A)\n",
    "\n",
    "## now using lstq instruction to solve the equation\n",
    "\n",
    "m,c = np.linalg.lstsq(A,y)[0]\n",
    "print(\"m,c__\",m,c)\n",
    "plt.plot(x,y,'o',label=\"Original points\")\n",
    "plt.plot(x, m*x + c,'r',label=\"fitted line\")\n",
    "plt.legend()\n",
    "plt.show()\n"
   ]
  },
  {
   "cell_type": "markdown",
   "metadata": {},
   "source": [
    "## TO READ FILE IN DICT (KEY AND ITS VALUES)"
   ]
  },
  {
   "cell_type": "code",
   "execution_count": 141,
   "metadata": {},
   "outputs": [],
   "source": [
    "f = open(\"\\\\Users\\\\preethi\\\\Downloads\\\\.ipynb_checkpoints\\\\marks.txt\",'r')\n",
    "lines = f.readlines()\n",
    "f.close()"
   ]
  },
  {
   "cell_type": "code",
   "execution_count": 142,
   "metadata": {},
   "outputs": [
    {
     "name": "stdout",
     "output_type": "stream",
     "text": [
      "heading__ ROLL\tNAME\tPHY\tCHEM\tMATH\tENG\tHIN\n",
      "\n",
      "fields__ ['ROLL', 'NAME', 'PHY', 'CHEM', 'MATH', 'ENG', 'HIN']\n"
     ]
    }
   ],
   "source": [
    "data = {}\n",
    "heading = lines[0]\n",
    "print(\"heading__\",heading)\n",
    "fields = heading.split()\n",
    "print(\"fields__\",fields)\n"
   ]
  },
  {
   "cell_type": "code",
   "execution_count": 143,
   "metadata": {},
   "outputs": [
    {
     "name": "stdout",
     "output_type": "stream",
     "text": [
      "['1', 'A', '25', '32', '98', '75', '75']\n",
      "['2', 'B', '84', '97', '65', '45', '48']\n",
      "['3', 'C', '97', '85', '67', '45', '24']\n",
      "['4', 'D', '64', '25', '14', '35', '15']\n",
      "['5', 'E', '65', '14', '27', '37', '45']\n",
      "{'1': {'NAME': 'A', 'PHY': '25', 'CHEM': '32', 'MATH': '98', 'ENG': '75', 'HIN': '75'}, '2': {'NAME': 'B', 'PHY': '84', 'CHEM': '97', 'MATH': '65', 'ENG': '45', 'HIN': '48'}, '3': {'NAME': 'C', 'PHY': '97', 'CHEM': '85', 'MATH': '67', 'ENG': '45', 'HIN': '24'}, '4': {'NAME': 'D', 'PHY': '64', 'CHEM': '25', 'MATH': '14', 'ENG': '35', 'HIN': '15'}, '5': {'NAME': 'E', 'PHY': '65', 'CHEM': '14', 'MATH': '27', 'ENG': '37', 'HIN': '45'}}\n"
     ]
    }
   ],
   "source": [
    "for text in lines[1:]:\n",
    "    #print(text)\n",
    "    L  = text.split()\n",
    "    print(L)\n",
    "    val = {}\n",
    "    for i in range(1,len(L)):\n",
    "        val[fields[i]] = L[i]\n",
    "    data[L[0]] = val\n",
    "print(data)"
   ]
  },
  {
   "cell_type": "code",
   "execution_count": 144,
   "metadata": {},
   "outputs": [
    {
     "data": {
      "text/plain": [
       "dict_keys(['1', '2', '3', '4', '5'])"
      ]
     },
     "execution_count": 144,
     "metadata": {},
     "output_type": "execute_result"
    }
   ],
   "source": [
    "data.keys()\n"
   ]
  },
  {
   "cell_type": "code",
   "execution_count": 145,
   "metadata": {},
   "outputs": [
    {
     "name": "stdout",
     "output_type": "stream",
     "text": [
      "roll_ 1\n",
      "{'NAME': 'A', 'PHY': '25', 'CHEM': '32', 'MATH': '98', 'ENG': '75', 'HIN': '75'}\n",
      "key= NAME\n",
      "value= A\n",
      "{'NAME': 'A', 'PHY': '25', 'CHEM': '32', 'MATH': '98', 'ENG': '75', 'HIN': '75'}\n",
      "key= PHY\n",
      "value= 25\n",
      "{'NAME': 'A', 'PHY': '25', 'CHEM': '32', 'MATH': '98', 'ENG': '75', 'HIN': '75'}\n",
      "key= CHEM\n",
      "value= 32\n",
      "{'NAME': 'A', 'PHY': '25', 'CHEM': '32', 'MATH': '98', 'ENG': '75', 'HIN': '75'}\n",
      "key= MATH\n",
      "value= 98\n",
      "{'NAME': 'A', 'PHY': '25', 'CHEM': '32', 'MATH': '98', 'ENG': '75', 'HIN': '75'}\n",
      "key= ENG\n",
      "value= 75\n",
      "{'NAME': 'A', 'PHY': '25', 'CHEM': '32', 'MATH': '98', 'ENG': '75', 'HIN': '75'}\n",
      "key= HIN\n",
      "value= 75\n",
      "roll_ 2\n",
      "{'NAME': 'B', 'PHY': '84', 'CHEM': '97', 'MATH': '65', 'ENG': '45', 'HIN': '48'}\n",
      "key= NAME\n",
      "value= B\n",
      "{'NAME': 'B', 'PHY': '84', 'CHEM': '97', 'MATH': '65', 'ENG': '45', 'HIN': '48'}\n",
      "key= PHY\n",
      "value= 84\n",
      "{'NAME': 'B', 'PHY': '84', 'CHEM': '97', 'MATH': '65', 'ENG': '45', 'HIN': '48'}\n",
      "key= CHEM\n",
      "value= 97\n",
      "{'NAME': 'B', 'PHY': '84', 'CHEM': '97', 'MATH': '65', 'ENG': '45', 'HIN': '48'}\n",
      "key= MATH\n",
      "value= 65\n",
      "{'NAME': 'B', 'PHY': '84', 'CHEM': '97', 'MATH': '65', 'ENG': '45', 'HIN': '48'}\n",
      "key= ENG\n",
      "value= 45\n",
      "{'NAME': 'B', 'PHY': '84', 'CHEM': '97', 'MATH': '65', 'ENG': '45', 'HIN': '48'}\n",
      "key= HIN\n",
      "value= 48\n",
      "roll_ 3\n",
      "{'NAME': 'C', 'PHY': '97', 'CHEM': '85', 'MATH': '67', 'ENG': '45', 'HIN': '24'}\n",
      "key= NAME\n",
      "value= C\n",
      "{'NAME': 'C', 'PHY': '97', 'CHEM': '85', 'MATH': '67', 'ENG': '45', 'HIN': '24'}\n",
      "key= PHY\n",
      "value= 97\n",
      "{'NAME': 'C', 'PHY': '97', 'CHEM': '85', 'MATH': '67', 'ENG': '45', 'HIN': '24'}\n",
      "key= CHEM\n",
      "value= 85\n",
      "{'NAME': 'C', 'PHY': '97', 'CHEM': '85', 'MATH': '67', 'ENG': '45', 'HIN': '24'}\n",
      "key= MATH\n",
      "value= 67\n",
      "{'NAME': 'C', 'PHY': '97', 'CHEM': '85', 'MATH': '67', 'ENG': '45', 'HIN': '24'}\n",
      "key= ENG\n",
      "value= 45\n",
      "{'NAME': 'C', 'PHY': '97', 'CHEM': '85', 'MATH': '67', 'ENG': '45', 'HIN': '24'}\n",
      "key= HIN\n",
      "value= 24\n",
      "roll_ 4\n",
      "{'NAME': 'D', 'PHY': '64', 'CHEM': '25', 'MATH': '14', 'ENG': '35', 'HIN': '15'}\n",
      "key= NAME\n",
      "value= D\n",
      "{'NAME': 'D', 'PHY': '64', 'CHEM': '25', 'MATH': '14', 'ENG': '35', 'HIN': '15'}\n",
      "key= PHY\n",
      "value= 64\n",
      "{'NAME': 'D', 'PHY': '64', 'CHEM': '25', 'MATH': '14', 'ENG': '35', 'HIN': '15'}\n",
      "key= CHEM\n",
      "value= 25\n",
      "{'NAME': 'D', 'PHY': '64', 'CHEM': '25', 'MATH': '14', 'ENG': '35', 'HIN': '15'}\n",
      "key= MATH\n",
      "value= 14\n",
      "{'NAME': 'D', 'PHY': '64', 'CHEM': '25', 'MATH': '14', 'ENG': '35', 'HIN': '15'}\n",
      "key= ENG\n",
      "value= 35\n",
      "{'NAME': 'D', 'PHY': '64', 'CHEM': '25', 'MATH': '14', 'ENG': '35', 'HIN': '15'}\n",
      "key= HIN\n",
      "value= 15\n",
      "roll_ 5\n",
      "{'NAME': 'E', 'PHY': '65', 'CHEM': '14', 'MATH': '27', 'ENG': '37', 'HIN': '45'}\n",
      "key= NAME\n",
      "value= E\n",
      "{'NAME': 'E', 'PHY': '65', 'CHEM': '14', 'MATH': '27', 'ENG': '37', 'HIN': '45'}\n",
      "key= PHY\n",
      "value= 65\n",
      "{'NAME': 'E', 'PHY': '65', 'CHEM': '14', 'MATH': '27', 'ENG': '37', 'HIN': '45'}\n",
      "key= CHEM\n",
      "value= 14\n",
      "{'NAME': 'E', 'PHY': '65', 'CHEM': '14', 'MATH': '27', 'ENG': '37', 'HIN': '45'}\n",
      "key= MATH\n",
      "value= 27\n",
      "{'NAME': 'E', 'PHY': '65', 'CHEM': '14', 'MATH': '27', 'ENG': '37', 'HIN': '45'}\n",
      "key= ENG\n",
      "value= 37\n",
      "{'NAME': 'E', 'PHY': '65', 'CHEM': '14', 'MATH': '27', 'ENG': '37', 'HIN': '45'}\n",
      "key= HIN\n",
      "value= 45\n",
      "{'1': {'NAME': 'A', 'PHY': '25', 'CHEM': '32', 'MATH': '98', 'ENG': '75', 'HIN': '75', 'Avg': 61.0}, '2': {'NAME': 'B', 'PHY': '84', 'CHEM': '97', 'MATH': '65', 'ENG': '45', 'HIN': '48', 'Avg': 67.8}, '3': {'NAME': 'C', 'PHY': '97', 'CHEM': '85', 'MATH': '67', 'ENG': '45', 'HIN': '24', 'Avg': 63.6}, '4': {'NAME': 'D', 'PHY': '64', 'CHEM': '25', 'MATH': '14', 'ENG': '35', 'HIN': '15', 'Avg': 30.6}, '5': {'NAME': 'E', 'PHY': '65', 'CHEM': '14', 'MATH': '27', 'ENG': '37', 'HIN': '45', 'Avg': 37.6}}\n"
     ]
    }
   ],
   "source": [
    "for roll in data.keys():\n",
    "    print(\"roll_\",roll)\n",
    "    s = 0\n",
    "    for (key,value) in data[roll].items():\n",
    "        print(data[roll])\n",
    "        print(\"key=\",key)\n",
    "        print(\"value=\",value)\n",
    "        if (key!='NAME' and key!='Avg'):\n",
    "            s = s+int(value)\n",
    "    avg = s/5.0\n",
    "    data[roll]['Avg']=avg\n",
    "print(data)\n",
    "    "
   ]
  },
  {
   "cell_type": "markdown",
   "metadata": {},
   "source": [
    "## AVERAGE GREATER THAN 60\n"
   ]
  },
  {
   "cell_type": "code",
   "execution_count": 151,
   "metadata": {},
   "outputs": [
    {
     "name": "stdout",
     "output_type": "stream",
     "text": [
      "61.0\n",
      "{'NAME': 'A', 'PHY': '25', 'CHEM': '32', 'MATH': '98', 'ENG': '75', 'HIN': '75', 'Avg': 61.0}\n",
      "67.8\n",
      "{'NAME': 'B', 'PHY': '84', 'CHEM': '97', 'MATH': '65', 'ENG': '45', 'HIN': '48', 'Avg': 67.8}\n",
      "63.6\n",
      "{'NAME': 'C', 'PHY': '97', 'CHEM': '85', 'MATH': '67', 'ENG': '45', 'HIN': '24', 'Avg': 63.6}\n",
      "30.6\n",
      "37.6\n"
     ]
    }
   ],
   "source": [
    "for roll in data.keys():\n",
    "    s = 0\n",
    "    for (key,value) in data[roll].items():\n",
    "        if(key!= 'NAME' and key!='Avg'):\n",
    "            s = s+int(value)\n",
    "    avg = s/5.0\n",
    "    print(avg)\n",
    "    if(avg>=60):\n",
    "        print(data[roll])\n",
    "        \n",
    "        \n"
   ]
  },
  {
   "cell_type": "markdown",
   "metadata": {},
   "source": [
    "## JUST THE HIGHEST AVG"
   ]
  },
  {
   "cell_type": "code",
   "execution_count": 159,
   "metadata": {},
   "outputs": [
    {
     "name": "stdout",
     "output_type": "stream",
     "text": [
      "Highest average= 67.8\n",
      "Record of student with highest marks= {'NAME': 'B', 'PHY': '84', 'CHEM': '97', 'MATH': '65', 'ENG': '45', 'HIN': '48', 'Avg': 67.8}\n"
     ]
    }
   ],
   "source": [
    "#find highest average marks\n",
    "for roll in data.keys():\n",
    "    #print(roll)\n",
    "    if roll=='1':\n",
    "        a=data[roll]['Avg']\n",
    "        #print(a)\n",
    "    if data[roll]['Avg']>a:\n",
    "        a=data[roll]['Avg']\n",
    "        b=roll\n",
    "        #print(\"new a=\",a)\n",
    "        #print(\"highest roll=\",b)\n",
    "    else:\n",
    "        a=a\n",
    "print(\"Highest average=\",a)\n",
    "\n",
    "#Print record of student with highest average marks\n",
    "for roll in data.keys():\n",
    "    if roll == b:\n",
    "        print(\"Record of student with highest marks=\",data[roll])\n",
    "        \n",
    "        "
   ]
  },
  {
   "cell_type": "code",
   "execution_count": null,
   "metadata": {},
   "outputs": [],
   "source": []
  }
 ],
 "metadata": {
  "kernelspec": {
   "display_name": "Python 3",
   "language": "python",
   "name": "python3"
  },
  "language_info": {
   "codemirror_mode": {
    "name": "ipython",
    "version": 3
   },
   "file_extension": ".py",
   "mimetype": "text/x-python",
   "name": "python",
   "nbconvert_exporter": "python",
   "pygments_lexer": "ipython3",
   "version": "3.7.3"
  }
 },
 "nbformat": 4,
 "nbformat_minor": 2
}
